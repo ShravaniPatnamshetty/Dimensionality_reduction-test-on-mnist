{
 "cells": [
  {
   "cell_type": "code",
   "execution_count": 3,
   "id": "785c28e9",
   "metadata": {},
   "outputs": [
    {
     "data": {
      "text/plain": [
       "dict_keys(['data', 'target', 'frame', 'categories', 'feature_names', 'target_names', 'DESCR', 'details', 'url'])"
      ]
     },
     "execution_count": 3,
     "metadata": {},
     "output_type": "execute_result"
    }
   ],
   "source": [
    "from sklearn.datasets import fetch_openml\n",
    "mnist=fetch_openml('mnist_784', version=1)\n",
    "mnist.keys()"
   ]
  },
  {
   "cell_type": "code",
   "execution_count": 8,
   "id": "ba6c5ce2",
   "metadata": {},
   "outputs": [
    {
     "data": {
      "text/plain": [
       "(70000, 784)"
      ]
     },
     "execution_count": 8,
     "metadata": {},
     "output_type": "execute_result"
    }
   ],
   "source": [
    "X, y = mnist[\"data\"], mnist[\"target\"]\n",
    "X.shape"
   ]
  },
  {
   "cell_type": "code",
   "execution_count": 5,
   "id": "9dd32c13",
   "metadata": {},
   "outputs": [
    {
     "data": {
      "text/plain": [
       "(70000,)"
      ]
     },
     "execution_count": 5,
     "metadata": {},
     "output_type": "execute_result"
    }
   ],
   "source": [
    "y.shape"
   ]
  },
  {
   "cell_type": "code",
   "execution_count": 6,
   "id": "6dbe70e3",
   "metadata": {},
   "outputs": [],
   "source": [
    "X_train, X_test, y_train, y_test = X[:60000], X[60000:], y[:60000], y[60000:]"
   ]
  },
  {
   "cell_type": "markdown",
   "id": "6c2c0ff3",
   "metadata": {},
   "source": [
    "# preprocessing \n"
   ]
  },
  {
   "cell_type": "markdown",
   "id": "3cc341fb",
   "metadata": {},
   "source": [
    "Dimensionality_reduction"
   ]
  },
  {
   "cell_type": "code",
   "execution_count": 27,
   "id": "76b51fed",
   "metadata": {},
   "outputs": [
    {
     "data": {
      "image/png": "[encoded data removed]",
      "text/plain": [
       "<Figure size 432x288 with 1 Axes>"
      ]
     },
     "metadata": {
      "needs_background": "light"
     },
     "output_type": "display_data"
    }
   ],
   "source": [
    "import matplotlib.pyplot as plt\n",
    "import numpy as np\n",
    "cumsum = np.cumsum(pca.explained_variance_ratio_)\n",
    "d = np.argmax(cumsum >= 0.95) + 1\n",
    "plt.figure(figsize=(6,4))\n",
    "plt.plot(cumsum, linewidth=3)\n",
    "plt.axis([0, 400, 0, 1])\n",
    "plt.xlabel(\"Dimensions\")\n",
    "plt.ylabel(\"Explained Variance\")\n",
    "plt.plot([d, d], [0, 0.95], \"k:\")\n",
    "plt.plot([0, d], [0.95, 0.95], \"k:\")\n",
    "plt.plot(d, 0.95, \"ko\")\n",
    "plt.annotate(\"Elbow\", xy=(65, 0.85), xytext=(70, 0.7),\n",
    "             arrowprops=dict(arrowstyle=\"->\"), fontsize=16)\n",
    "plt.grid(True)\n",
    "\n",
    "plt.show()"
   ]
  },
  {
   "cell_type": "code",
   "execution_count": 9,
   "id": "5f16e589",
   "metadata": {},
   "outputs": [],
   "source": [
    "from sklearn.decomposition import PCA\n",
    "pca=PCA(n_components=0.95)\n",
    "X_reduced=pca.fit_transform(X_train)"
   ]
  },
  {
   "cell_type": "code",
   "execution_count": 18,
   "id": "8381a09d",
   "metadata": {},
   "outputs": [],
   "source": [
    "x_test_reduced=pca.transform(X_test)"
   ]
  },
  {
   "cell_type": "code",
   "execution_count": 10,
   "id": "da0bc3d3",
   "metadata": {},
   "outputs": [
    {
     "data": {
      "text/plain": [
       "(60000, 154)"
      ]
     },
     "execution_count": 10,
     "metadata": {},
     "output_type": "execute_result"
    }
   ],
   "source": [
    "X_reduced.shape"
   ]
  },
  {
   "cell_type": "markdown",
   "id": "e9144e58",
   "metadata": {},
   "source": [
    "# training the model"
   ]
  },
  {
   "cell_type": "code",
   "execution_count": 12,
   "id": "cdf57837",
   "metadata": {},
   "outputs": [],
   "source": [
    "from sklearn.ensemble import RandomForestClassifier\n",
    "rfc=RandomForestClassifier()"
   ]
  },
  {
   "cell_type": "code",
   "execution_count": 13,
   "id": "820b0079",
   "metadata": {},
   "outputs": [],
   "source": [
    "import time\n",
    "t0=time.time()\n",
    "rfc.fit(X_reduced,y_train)\n",
    "t1=time.time()"
   ]
  },
  {
   "cell_type": "code",
   "execution_count": 15,
   "id": "f9ecadcf",
   "metadata": {},
   "outputs": [
    {
     "name": "stdout",
     "output_type": "stream",
     "text": [
      "training took 99.32497453689575\n"
     ]
    }
   ],
   "source": [
    "print(f\"training took {t1-t0}\")"
   ]
  },
  {
   "cell_type": "markdown",
   "id": "6077d2c6",
   "metadata": {},
   "source": [
    "# evaluation"
   ]
  },
  {
   "cell_type": "code",
   "execution_count": 19,
   "id": "a2b803dd",
   "metadata": {},
   "outputs": [
    {
     "data": {
      "text/plain": [
       "0.9482"
      ]
     },
     "execution_count": 19,
     "metadata": {},
     "output_type": "execute_result"
    }
   ],
   "source": [
    "from sklearn.metrics import accuracy_score\n",
    "y_pred=rfc.predict(x_test_reduced)\n",
    "score=accuracy_score(y_test,y_pred)\n",
    "score"
   ]
  },
  {
   "cell_type": "markdown",
   "id": "2bd29e6f",
   "metadata": {},
   "source": [
    "# comaparing this with the unreduced data"
   ]
  },
  {
   "cell_type": "code",
   "execution_count": 21,
   "id": "77aef3e4",
   "metadata": {},
   "outputs": [],
   "source": [
    "import time\n",
    "t2=time.time()\n",
    "rfc.fit(X_train,y_train)\n",
    "t3=time.time()\n"
   ]
  },
  {
   "cell_type": "code",
   "execution_count": 22,
   "id": "7839ce17",
   "metadata": {},
   "outputs": [
    {
     "name": "stdout",
     "output_type": "stream",
     "text": [
      "training took 53.088319301605225\n"
     ]
    }
   ],
   "source": [
    "print(f\"training took {t3-t1}\")"
   ]
  },
  {
   "cell_type": "markdown",
   "id": "73632a3e",
   "metadata": {},
   "source": [
    "# evaluation on unreduced test set"
   ]
  },
  {
   "cell_type": "code",
   "execution_count": 24,
   "id": "08dd3d18",
   "metadata": {},
   "outputs": [
    {
     "data": {
      "text/plain": [
       "0.9701"
      ]
     },
     "execution_count": 24,
     "metadata": {},
     "output_type": "execute_result"
    }
   ],
   "source": [
    "y_pred1=rfc.predict(X_test)\n",
    "score=accuracy_score(y_test,y_pred1)\n",
    "score"
   ]
  },
  {
   "cell_type": "markdown",
   "id": "6307b6cd",
   "metadata": {},
   "source": [
    "# Summary"
   ]
  },
  {
   "cell_type": "markdown",
   "id": "f05916a6",
   "metadata": {},
   "source": [
    "so,the reduced model is not good in predicting rather the original data is performing well as we could see throuth their accuracy scores "
   ]
  }
 ],
 "metadata": {
  "kernelspec": {
   "display_name": "Python 3",
   "language": "python",
   "name": "python3"
  },
  "language_info": {
   "codemirror_mode": {
    "name": "ipython",
    "version": 3
   },
   "file_extension": ".py",
   "mimetype": "text/x-python",
   "name": "python",
   "nbconvert_exporter": "python",
   "pygments_lexer": "ipython3",
   "version": "3.8.8"
  }
 },
 "nbformat": 4,
 "nbformat_minor": 5
}
